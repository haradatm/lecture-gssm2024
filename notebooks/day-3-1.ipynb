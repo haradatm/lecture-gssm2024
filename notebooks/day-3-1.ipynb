{
 "cells": [
  {
   "cell_type": "markdown",
   "id": "ca6f6ed6-79e9-4efc-836a-040000ce8c89",
   "metadata": {
    "tags": []
   },
   "source": [
    "# day 3-1"
   ]
  },
  {
   "cell_type": "markdown",
   "id": "1c810781-f73f-4499-b4e2-1fad96108158",
   "metadata": {
    "tags": []
   },
   "source": [
    "このノートブックの実行例は[こちら(HTML版)](../notebooks-sample/day-3-1.html)で確認できます"
   ]
  },
  {
   "cell_type": "markdown",
   "id": "59a14093-5615-40dd-b7d5-5666dab2b67a",
   "metadata": {},
   "source": [
    "---"
   ]
  },
  {
   "cell_type": "markdown",
   "id": "09ca0bb6",
   "metadata": {
    "tags": []
   },
   "source": [
    "## 0. はじめに"
   ]
  },
  {
   "cell_type": "markdown",
   "id": "cd85549d",
   "metadata": {},
   "source": [
    "ページ上部のメニューバーにある **Kernel** メニューをクリックし、プルダウンメニューから [**Change Kernel ...**] を選び、**gssm2024:Python** を選択してください。\n",
    "\n",
    "<img src=\"images/change_kernel1.png\" width=\"30%\">"
   ]
  },
  {
   "cell_type": "markdown",
   "id": "033492ef",
   "metadata": {},
   "source": [
    "ノートブック上部の右隅に表示されたカーネル名が **gssm2024:Python** になっていることを確認してください。\n",
    "\n",
    "<img src=\"images/change_kernel2.png\" width=\"30%\">\n",
    "\n",
    "---"
   ]
  },
  {
   "cell_type": "markdown",
   "id": "f7a6b606-a68d-43e6-bc43-598ce32032cc",
   "metadata": {},
   "source": [
    "## 1. SageMaker Studio Lab の使い方\n",
    "\n",
    "> 引用元: ''Getting Started with Amazon SageMaker Studio Lab''"
   ]
  },
  {
   "cell_type": "markdown",
   "id": "f5315532",
   "metadata": {},
   "source": [
    "### 1.1 SageMaker Studio Lab とは"
   ]
  },
  {
   "cell_type": "markdown",
   "id": "fd6ea658-93e2-4901-9ce5-7db00e7f9f44",
   "metadata": {},
   "source": [
    "SageMaker Studio Lab は、15GBの永続的なストレージとCPUまたはGPUランタイムにアクセスできるノートブック開発環境です。プロジェクトに関するすべてのもの(ノートブック、ソースコードファイル、データセット、クローンした Git リポジトリ、Conda 環境、JupyterLab 拡張機能など)は自動的に保存されるので、プロジェクトを起動するたびに、中断した場所から再開することができます。SageMaker Studio LabはオープンソースのJupyterLab をベースにしているため、プロジェクトでオープンソースのJupyter拡張機能を利用することができます。"
   ]
  },
  {
   "cell_type": "markdown",
   "id": "64b5e9bd-abca-4f7f-9a92-889edf4a218d",
   "metadata": {},
   "source": [
    "### 1.1 Python コードを実行する"
   ]
  },
  {
   "cell_type": "markdown",
   "id": "d24aa6e0-8b62-412a-a318-f89d71a51bbd",
   "metadata": {},
   "source": [
    "このドキュメントは、[Jupyter notebook](https://jupyter.org/)です。ノートブックでは、ライブコード、数式、Markdown、画像、視覚化、その他のコンテンツを1つのドキュメントにまとめ、他の人と共有することができます。\n",
    "\n",
    "以下のPythonコードを実行するには、セルをクリックして選択し、キーボードで`Shift-Enter`を入力するか、ドキュメントの上部にあるノートブックツールバーの再生ボタンをクリックします。"
   ]
  },
  {
   "cell_type": "code",
   "execution_count": null,
   "id": "87a80480-cf35-4fc1-a403-25a83fe17f44",
   "metadata": {
    "tags": []
   },
   "outputs": [],
   "source": [
    "a = 10\n",
    "b = 20\n",
    "c = a + b\n",
    "print(a, b, c)"
   ]
  },
  {
   "cell_type": "markdown",
   "id": "92896163-cda2-4935-a1ea-14e2892734aa",
   "metadata": {},
   "source": [
    "Pythonについて詳しく知りたい方は、[Python早見表](https://chokkan.github.io/python/)などが参考になります。"
   ]
  },
  {
   "cell_type": "markdown",
   "id": "65a34fd6-c902-442a-982f-9721f3855d36",
   "metadata": {
    "tags": []
   },
   "source": [
    "### 1.2 基本操作\n",
    "\n",
    "ノートブックの作成、ソースコードファイルの作成、ターミナルへのアクセス"
   ]
  },
  {
   "cell_type": "markdown",
   "id": "45bfc279-5fbf-4337-ae47-27ba8800ace8",
   "metadata": {},
   "source": [
    "SageMaker Studio Lab では、ノートブックの作成、ソースコードファイルの作成、内蔵ターミナルへのアクセスが可能です。左パネルのファイルブラウザの上部にある「+」ボタンをクリックしてLauncherを開くことで行えます:\n",
    "\n",
    "![ランチャーボタン](images/launcher_button.png)"
   ]
  },
  {
   "cell_type": "markdown",
   "id": "8940e135-cebe-406f-8a06-5e4e80b1f29d",
   "metadata": {},
   "source": [
    "作成したノートブック、ファイル、データセットはすべて永続的なプロジェクトディレクトリに保存され、プロジェクトを開くと利用できるようになります。ヘルプを入手したり、ドキュメントにアクセスするには、ページ上部のメニューバーにある **Help** メニューをクリックします。"
   ]
  },
  {
   "cell_type": "markdown",
   "id": "3c9dc584-12c6-488f-9bcc-d67b4c61931f",
   "metadata": {},
   "source": [
    "ランチャーには、さまざまな環境でノートブックを起動したり、ソースコードファイルを作成したり、ターミナルにアクセスしたりするためのカードが用意されています:\n",
    "\n",
    "![Launcher Cards](images/launcher_cards.png)"
   ]
  },
  {
   "cell_type": "markdown",
   "id": "5c4f2ca5-7239-4ea6-822a-896896082d3f",
   "metadata": {},
   "source": [
    "### 1.2 Python パッケージをインストールするには"
   ]
  },
  {
   "cell_type": "markdown",
   "id": "a7bd626a-45dd-4778-87e3-729c3b5d9953",
   "metadata": {},
   "source": [
    "Pythonのパッケージは、他のプログラムから再利用できるようにPythonのコードをまとめたファイルです. Pythonのパッケージをインストールする最も簡単な方法は、ノートブックのコードセルで次のいずれかのマジックコマンドを使用することです:\n",
    "\n",
    "`%conda install <package>`\n",
    "\n",
    "`%pip install <package>`\n",
    "\n",
    "これらのコマンドは、常にノートブックで使用されている環境にパッケージをインストールし、インストールしたパッケージは、永続的なプロジェクトディレクトリに保存されます。注意: `!pip` or `!conda` を使うことはお勧めしません。複数の環境がある場合、これらのコマンドは予期せぬ動作をすることがあるためです。(Jypyter notebookでは`%`で始まるコマンドを「マジックコマンド」と呼びます)\n",
    "\n",
    "以下は、このノートブックで使用する環境に **NumPy** と呼ばれるパッケージをインストールする方法を示す例です:"
   ]
  },
  {
   "cell_type": "code",
   "execution_count": null,
   "id": "deef862e-c4d4-494a-9736-494aaaafb981",
   "metadata": {
    "tags": []
   },
   "outputs": [],
   "source": [
    "%conda install numpy"
   ]
  },
  {
   "cell_type": "markdown",
   "id": "68523e64-73a1-4193-8b52-259921400437",
   "metadata": {},
   "source": [
    "これで **NumPy** が使えるようになりました (実際には NumPy はすでにインストールされているためアップデートされています)"
   ]
  },
  {
   "cell_type": "code",
   "execution_count": null,
   "id": "d4086851-d2ed-4def-99a3-31f1ceee71df",
   "metadata": {
    "tags": []
   },
   "outputs": [],
   "source": [
    "import numpy as np\n",
    "np.random.rand(10)"
   ]
  },
  {
   "cell_type": "markdown",
   "id": "a1172abf-4034-4b49-a907-58096e29489c",
   "metadata": {},
   "source": [
    "### (参考) SageMaker Studio Lab のサンプルノートブック"
   ]
  },
  {
   "cell_type": "markdown",
   "id": "2f518443",
   "metadata": {},
   "source": [
    "#### Python早見表\n",
    "\n",
    "[Python早見表](https://chokkan.github.io/python/)は、東京工業大学の岡崎直観先生が作成された Python の入門教材です。プログラムと実行例をカタログ的に提示しながら、Pythonの言語仕様やライブラリを紹介しています。Pythonの基礎を素早く習得したり、ライブラリやオブジェクトの使い方を確認することができます。教材にある以下のボタンをクリクすることで、SageMaker上にノートブックを開くことができます。\n",
    "\n",
    "![Open In SageMaker Studio Lab](https://studiolab.sagemaker.aws/studiolab.svg)"
   ]
  },
  {
   "cell_type": "markdown",
   "id": "a3cf2268",
   "metadata": {},
   "source": [
    "---"
   ]
  },
  {
   "cell_type": "markdown",
   "id": "b6c23f64",
   "metadata": {},
   "source": [
    "## 2. 環境構築"
   ]
  },
  {
   "cell_type": "markdown",
   "id": "f7e6cb6f",
   "metadata": {},
   "source": [
    "### 2.1 MeCab のインストール (目安:約3分)"
   ]
  },
  {
   "cell_type": "code",
   "execution_count": null,
   "id": "30202422-8b99-4dc3-81cc-9381622fde42",
   "metadata": {
    "tags": []
   },
   "outputs": [],
   "source": [
    "!bash ../scripts/install_mecab.sh >> install_mecab.log 2>&1\n",
    "!tail -n 1 install_mecab.log"
   ]
  },
  {
   "cell_type": "markdown",
   "id": "b323962b",
   "metadata": {},
   "source": [
    "`Successfully installed mecab-python-0.996` と表示されれば、インストール成功です。"
   ]
  },
  {
   "cell_type": "markdown",
   "id": "a9db654b-9e28-4627-93ed-7b5c52365333",
   "metadata": {
    "tags": []
   },
   "source": [
    "### 2.2 CaboCha のインストール (目安:約5分)"
   ]
  },
  {
   "cell_type": "code",
   "execution_count": null,
   "id": "4e308382-8003-4dbb-bfd1-0961b857f65d",
   "metadata": {
    "tags": []
   },
   "outputs": [],
   "source": [
    "!bash ../scripts/install_cabocha.sh >> install_cabocha.log 2>&1\n",
    "!tail -n 1 install_cabocha.log"
   ]
  },
  {
   "cell_type": "markdown",
   "id": "e55ba650",
   "metadata": {},
   "source": [
    "`Successfully installed cabocha-python-0.69` と表示されれば、インストール成功です。"
   ]
  },
  {
   "cell_type": "markdown",
   "id": "cc7ee22b-7645-4303-93aa-1e823525e832",
   "metadata": {},
   "source": [
    "### 2.3 Kernel のリスタート"
   ]
  },
  {
   "cell_type": "markdown",
   "id": "42ee393e",
   "metadata": {},
   "source": [
    "ページ上部のメニューバーにある **Kernel** メニューをクリックし、プルダウンメニューから [**Restart Kernel ...**] を選択してください。\n",
    "\n",
    "<img src=\"images/restart_kernel.png\" width=\"60%\">"
   ]
  },
  {
   "cell_type": "markdown",
   "id": "c87ac358-1447-4f83-9d3d-e4decc164059",
   "metadata": {},
   "source": [
    "---"
   ]
  },
  {
   "cell_type": "markdown",
   "id": "4ca0cc73-e065-4cc1-aebe-7916879e1540",
   "metadata": {},
   "source": [
    "## 続いてノートブック [day-3-2](./day-3-2.ipynb) を開いてください"
   ]
  },
  {
   "cell_type": "code",
   "execution_count": null,
   "id": "8a9543cf-558b-4225-b1f1-cfa4fbc09ba4",
   "metadata": {},
   "outputs": [],
   "source": []
  }
 ],
 "metadata": {
  "kernelspec": {
   "display_name": "gssm2024",
   "language": "python",
   "name": "python3"
  },
  "language_info": {
   "codemirror_mode": {
    "name": "ipython",
    "version": 3
   },
   "file_extension": ".py",
   "mimetype": "text/x-python",
   "name": "python",
   "nbconvert_exporter": "python",
   "pygments_lexer": "ipython3",
   "version": "3.11.3"
  },
  "toc-autonumbering": false
 },
 "nbformat": 4,
 "nbformat_minor": 5
}
