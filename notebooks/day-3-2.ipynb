{
 "cells": [
  {
   "cell_type": "markdown",
   "id": "ca6f6ed6-79e9-4efc-836a-040000ce8c89",
   "metadata": {
    "tags": []
   },
   "source": [
    "# day 3-2"
   ]
  },
  {
   "cell_type": "markdown",
   "id": "60dcf289-0b12-4095-ad06-ab4b467cf089",
   "metadata": {},
   "source": [
    "このノートブックの実行例は[こちら(HTML版)](../notebooks-sample/day-2-2.html)で確認できます"
   ]
  },
  {
   "cell_type": "markdown",
   "id": "d45355cf-4a36-4d51-80b7-3766e514b96b",
   "metadata": {},
   "source": [
    "---"
   ]
  },
  {
   "cell_type": "markdown",
   "id": "14d9bc8c-8096-4d76-b983-250b7a4b8203",
   "metadata": {},
   "source": [
    "## 0. はじめに"
   ]
  },
  {
   "cell_type": "markdown",
   "id": "1a794a09-51b9-449b-b699-32a6318de81b",
   "metadata": {},
   "source": [
    "ページ上部のメニューバーにある **Kernel** メニューをクリックし、プルダウンメニューから [**Change Kernel ...**] を選び、**gssm2024:Python** を選択してください。\n",
    "\n",
    "<img src=\"images/change_kernel1.png\" width=\"30%\">"
   ]
  },
  {
   "cell_type": "markdown",
   "id": "097064cc-d520-4893-a0e6-16ff5b34c15a",
   "metadata": {},
   "source": [
    "ノートブック上部の右隅に表示されたカーネル名が **gssm2024:Python** になっていることを確認してください。\n",
    "\n",
    "<img src=\"images/change_kernel2.png\" width=\"30%\">\n",
    "\n",
    "---"
   ]
  },
  {
   "cell_type": "markdown",
   "id": "5e3634cf-aa91-4d2b-9a4b-35e4cf65f9a5",
   "metadata": {},
   "source": [
    "## 3. テキスト解析"
   ]
  },
  {
   "cell_type": "markdown",
   "id": "d62a17a1-dada-42e1-b478-6c94e7aaeb3d",
   "metadata": {
    "tags": []
   },
   "source": [
    "### 3.1 形態素解析"
   ]
  },
  {
   "cell_type": "markdown",
   "id": "2a7fe581-4fbd-4f7c-9706-a3d089c45145",
   "metadata": {},
   "source": [
    "#### 3.1.1 MeCab を使う"
   ]
  },
  {
   "cell_type": "markdown",
   "id": "001a05cc-ca14-405c-a158-4352ef8f47ae",
   "metadata": {},
   "source": [
    "##### (1) そのまま出力してみる"
   ]
  },
  {
   "cell_type": "code",
   "execution_count": null,
   "id": "ac900f64-fc14-4522-bf30-1b3dcb816ad7",
   "metadata": {
    "tags": []
   },
   "outputs": [],
   "source": [
    "import MeCab\n",
    "\n",
    "tagger = MeCab.Tagger(\"-r ../tools/usr/local/etc/mecabrc\")\n",
    "print(tagger.parse(\"今日はいい天気です\"))"
   ]
  },
  {
   "cell_type": "markdown",
   "id": "213babc9-e16b-4ac2-b542-5405927c6f82",
   "metadata": {
    "tags": []
   },
   "source": [
    "##### (2) 扱いやすいように Pandas の DataFrame に格納する"
   ]
  },
  {
   "cell_type": "code",
   "execution_count": null,
   "id": "7f8f050b-91c7-471a-9236-366f4c1a7cb9",
   "metadata": {
    "tags": []
   },
   "outputs": [],
   "source": [
    "import pandas as pd\n",
    "\n",
    "node = tagger.parseToNode(\"今日はいい天気です\")\n",
    "features = []\n",
    "while node:\n",
    "    features.append(node.feature.split(','))\n",
    "    node = node.next\n",
    "\n",
    "columns = [\n",
    "    \"品詞\", \n",
    "    \"品詞細分類1\",\n",
    "    \"品詞細分類2\",\n",
    "    \"品詞細分類3\",\n",
    "    \"活用型\",\n",
    "    \"活用形\",\n",
    "    \"基本形\",\n",
    "    \"読み\",\n",
    "    \"発音\",\n",
    "]\n",
    "pd.DataFrame(features, columns=columns)"
   ]
  },
  {
   "cell_type": "markdown",
   "id": "6be24edf-99ca-49a0-995e-e314753c4ce0",
   "metadata": {
    "tags": []
   },
   "source": [
    "### 3.2 係り受け解析"
   ]
  },
  {
   "cell_type": "markdown",
   "id": "472d4965-1c37-4c7f-b751-a175aeffb4aa",
   "metadata": {},
   "source": [
    "#### 3.2.1 CaboCha を使う"
   ]
  },
  {
   "cell_type": "markdown",
   "id": "36875d67-5c83-4843-863e-efbb7193ecc7",
   "metadata": {},
   "source": [
    "##### (1) そのまま出力してみる"
   ]
  },
  {
   "cell_type": "code",
   "execution_count": null,
   "id": "fbf8c4f2-8ea7-41ed-8289-37c7bd6b3744",
   "metadata": {
    "tags": []
   },
   "outputs": [],
   "source": [
    "import CaboCha\n",
    "\n",
    "cp = CaboCha.Parser(\"-r ../tools/usr/local/etc/cabocharc\")\n",
    "tree = cp.parse(\"今日はいい天気です\")\n",
    "print(tree.toString(CaboCha.FORMAT_LATTICE))"
   ]
  },
  {
   "cell_type": "markdown",
   "id": "03228d63-c3cc-4e1a-9560-f5af908194d9",
   "metadata": {},
   "source": [
    "##### (2) ツリー形式で出力する"
   ]
  },
  {
   "cell_type": "code",
   "execution_count": null,
   "id": "30366faa-2c0a-40d8-a1d6-ad277e2cdc3c",
   "metadata": {
    "tags": []
   },
   "outputs": [],
   "source": [
    "print(cp.parseToString(\"今日はいい天気です\"))"
   ]
  },
  {
   "cell_type": "markdown",
   "id": "952debf3-60eb-417f-bdf4-0c30a64a6f7e",
   "metadata": {},
   "source": [
    "##### (3) 係り受けペアを出力する"
   ]
  },
  {
   "cell_type": "code",
   "execution_count": null,
   "id": "fe1a02cf-7596-4573-886a-048502a5ca3e",
   "metadata": {
    "tags": []
   },
   "outputs": [],
   "source": [
    "# 構文木(tree)からチャンクを取り出す\n",
    "def get_chunks(tree):\n",
    "    chunks = {}\n",
    "    key = 0\n",
    "    for i in range(tree.size()):\n",
    "        tok = tree.token(i)\n",
    "        if tok.chunk:\n",
    "            chunks[key] = tok.chunk\n",
    "            key += 1\n",
    "    return chunks\n",
    "\n",
    "\n",
    "# チャンク(chunk)から表層形を取り出す\n",
    "def get_surface(chunk):\n",
    "    surface = \"\"\n",
    "    beg = chunk.token_pos\n",
    "    end = chunk.token_pos + chunk.token_size\n",
    "    for i in range(beg, end):\n",
    "        token = tree.token(i)\n",
    "        surface += token.surface\n",
    "    return surface"
   ]
  },
  {
   "cell_type": "code",
   "execution_count": null,
   "id": "e596af19-0ec4-4f5a-aecf-f7144b65e14b",
   "metadata": {
    "tags": []
   },
   "outputs": [],
   "source": [
    "tree = cp.parse(\"今日はいい天気です\")\n",
    "chunks = get_chunks(tree)\n",
    "\n",
    "for from_chunk in chunks.values():\n",
    "    if from_chunk.link < 0:\n",
    "        continue\n",
    "    to_chunk = chunks[from_chunk.link]\n",
    "\n",
    "    from_surface = get_surface(from_chunk)\n",
    "    to_surface = get_surface(to_chunk)\n",
    "\n",
    "    print(from_surface, '->', to_surface)"
   ]
  },
  {
   "cell_type": "markdown",
   "id": "da53db7c",
   "metadata": {},
   "source": [
    "### 3.3 辞書追加"
   ]
  },
  {
   "cell_type": "markdown",
   "id": "b1af31c1",
   "metadata": {},
   "source": [
    "#### 3.3.1 辞書追加前の確認"
   ]
  },
  {
   "cell_type": "markdown",
   "id": "a6608995",
   "metadata": {},
   "source": [
    "(1) 辞書追加前に MeCab の解析結果を確認する"
   ]
  },
  {
   "cell_type": "code",
   "execution_count": null,
   "id": "e67454e5",
   "metadata": {},
   "outputs": [],
   "source": [
    "import MeCab\n",
    "\n",
    "tagger = MeCab.Tagger(\"-r ../tools/usr/local/etc/mecabrc\")\n",
    "print(tagger.parse(\"この泉質は極上です\"))\n",
    "print(tagger.parse(\"この海鮮丼は美味しいです\"))\n",
    "print(tagger.parse(\"近くにスカイツリーがあります\"))\n",
    "print(tagger.parse(\"浴室にバスタオルがありません\"))"
   ]
  },
  {
   "cell_type": "markdown",
   "id": "3479063d",
   "metadata": {},
   "source": [
    "(2) 辞書追加前に CaboCha の解析結果を確認する"
   ]
  },
  {
   "cell_type": "code",
   "execution_count": null,
   "id": "ad95156e",
   "metadata": {},
   "outputs": [],
   "source": [
    "import CaboCha\n",
    "\n",
    "cp = CaboCha.Parser(\"-r ../tools/usr/local/etc/cabocharc\")\n",
    "print(cp.parse(\"この泉質は極上です\").toString(CaboCha.FORMAT_LATTICE))\n",
    "print(cp.parse(\"この海鮮丼は美味しいです\").toString(CaboCha.FORMAT_LATTICE))\n",
    "print(cp.parse(\"近くにスカイツリーがあります\").toString(CaboCha.FORMAT_LATTICE))\n",
    "print(cp.parse(\"浴室にバスタオルがありません\").toString(CaboCha.FORMAT_LATTICE))"
   ]
  },
  {
   "cell_type": "markdown",
   "id": "5e9bb439",
   "metadata": {},
   "source": [
    "#### 3.3.2 辞書追加"
   ]
  },
  {
   "cell_type": "markdown",
   "id": "30d964a2",
   "metadata": {},
   "source": [
    "(1) 追加したい形態素の情報を CSV ファイル(user_dic.csv)に追記する"
   ]
  },
  {
   "cell_type": "code",
   "execution_count": null,
   "id": "0e83b867",
   "metadata": {},
   "outputs": [],
   "source": [
    "!echo '\"泉質\",-1,-1,1,名詞,一般,*,*,*,*,泉質,センシツ,センシツ,USER\"' >> ../tools/usr/local/lib/mecab/dic/ipadic/user_dic.csv\n",
    "!echo '\"海鮮丼\",-1,-1,1,名詞,一般,*,*,*,*,海鮮丼,カイセンドン,カイセンドン,USER\"' >> ../tools/usr/local/lib/mecab/dic/ipadic/user_dic.csv\n",
    "!echo '\"スカイツリー\",-1,-1,1,名詞,一般,*,*,*,*,スカイツリー,スカイツリー,スカイツリー,USER\"' >> ../tools/usr/local/lib/mecab/dic/ipadic/user_dic.csv\n",
    "!echo '\"バスタオル\",-1,-1,1,名詞,一般,*,*,*,*,バスタオル,バスタオル,バスタオル,USER\"' >> ../tools/usr/local/lib/mecab/dic/ipadic/user_dic.csv\n",
    "!cat ../tools/usr/local/lib/mecab/dic/ipadic/user_dic.csv"
   ]
  },
  {
   "cell_type": "markdown",
   "id": "0cb50b4c",
   "metadata": {},
   "source": [
    "(2) CSVファイル(user_dic.csv)をコンパイルして辞書(user.dic)を作成する"
   ]
  },
  {
   "cell_type": "code",
   "execution_count": null,
   "id": "0270548f",
   "metadata": {},
   "outputs": [],
   "source": [
    "!../tools/usr/local/libexec/mecab/mecab-dict-index \\\n",
    "-d ../tools/usr/local/lib/mecab/dic/ipadic \\\n",
    "-u ../tools/usr/local/lib/mecab/dic/ipadic/user.dic \\\n",
    "-f utf-8 -t utf-8 \\\n",
    "../tools/usr/local/lib/mecab/dic/ipadic/user_dic.csv"
   ]
  },
  {
   "cell_type": "markdown",
   "id": "65273488",
   "metadata": {},
   "source": [
    "#### 3.3.3 辞書追加後の確認"
   ]
  },
  {
   "cell_type": "markdown",
   "id": "56b69a8c",
   "metadata": {},
   "source": [
    "(1) 辞書追加後に MeCab の解析結果を確認する"
   ]
  },
  {
   "cell_type": "code",
   "execution_count": null,
   "id": "3752d122",
   "metadata": {},
   "outputs": [],
   "source": [
    "import MeCab\n",
    "\n",
    "tagger = MeCab.Tagger(\"-r ../tools/usr/local/etc/mecabrc\")\n",
    "print(tagger.parse(\"この泉質は極上です\"))\n",
    "print(tagger.parse(\"この海鮮丼は美味しいです\"))\n",
    "print(tagger.parse(\"近くにスカイツリーがあります\"))\n",
    "print(tagger.parse(\"浴室にバスタオルがありません\"))"
   ]
  },
  {
   "cell_type": "markdown",
   "id": "5bf665b5",
   "metadata": {},
   "source": [
    "(2) 辞書追加後に CaboCha の解析結果を確認する"
   ]
  },
  {
   "cell_type": "code",
   "execution_count": null,
   "id": "62b84d3c",
   "metadata": {},
   "outputs": [],
   "source": [
    "import CaboCha\n",
    "\n",
    "cp = CaboCha.Parser(\"-r ../tools/usr/local/etc/cabocharc\")\n",
    "print(cp.parse(\"この泉質は極上です\").toString(CaboCha.FORMAT_LATTICE))\n",
    "print(cp.parse(\"この海鮮丼は美味しいです\").toString(CaboCha.FORMAT_LATTICE))\n",
    "print(cp.parse(\"近くにスカイツリーがあります\").toString(CaboCha.FORMAT_LATTICE))\n",
    "print(cp.parse(\"浴室にバスタオルがありません\").toString(CaboCha.FORMAT_LATTICE))"
   ]
  },
  {
   "cell_type": "markdown",
   "id": "06745322-f263-40d2-a527-243e5f70fae1",
   "metadata": {},
   "source": [
    "---"
   ]
  },
  {
   "cell_type": "markdown",
   "id": "33b64ec0-3a16-49e5-a094-44e036ae827f",
   "metadata": {
    "tags": []
   },
   "source": [
    "## Appendix. データ理解"
   ]
  },
  {
   "cell_type": "markdown",
   "id": "0d282641-f19f-470c-9c31-66cc9b669a1b",
   "metadata": {},
   "source": [
    "### A.1 データのダウンロード (1度だけ実行)"
   ]
  },
  {
   "cell_type": "markdown",
   "id": "8274ae70-1377-442f-b1c8-cbc3b2273647",
   "metadata": {},
   "source": [
    "以下のデータをダウンロードします"
   ]
  },
  {
   "cell_type": "markdown",
   "id": "7fe46faa-1a06-4da6-9a83-2c706da921cc",
   "metadata": {
    "tags": []
   },
   "source": [
    "| ファイル名 | 件数 | データセット | 備考 |\n",
    "| --- | --- | --- | --- |\n",
    "| rakuten-1000-2023-2024.xlsx.zip | 10,000 | •レジャー+ビジネスの 10エリア<br>•エリアごと 1,000件 (ランダムサンプリング)<br>•期間: 2023/1~2024 GW明け | 本講義の全体を通して使用する |"
   ]
  },
  {
   "cell_type": "code",
   "execution_count": null,
   "id": "bb1c85c5-1fd2-40cd-a81c-a2bca52bd0bc",
   "metadata": {
    "tags": []
   },
   "outputs": [],
   "source": [
    "# rakuten-1000-2023-2024.xlsx.zip をダウンロードする\n",
    "FILE_ID = \"1EeCuDrfKdlsMxG9p3Ot7TIxfV9_f2smY\"\n",
    "!gdown --id {FILE_ID}\n",
    "!unzip rakuten-1000-2023-2024.xlsx.zip"
   ]
  },
  {
   "cell_type": "code",
   "execution_count": null,
   "id": "d2db7b12-1374-4f51-9fed-615e42febb6e",
   "metadata": {
    "tags": []
   },
   "outputs": [],
   "source": [
    "# rakuten-1000-2021-2022.xlsx.zip をダウンロードする\n",
    "FILE_ID = \"1ru2f4vasZBDo6Rt1B9OwMN-eksyqAl7i\"\n",
    "!gdown --id {FILE_ID}\n",
    "!unzip rakuten-1000-2021-2022.xlsx.zip"
   ]
  },
  {
   "cell_type": "markdown",
   "id": "abd5cd06-bcc6-46cd-9a7d-f8876358427c",
   "metadata": {
    "tags": []
   },
   "source": [
    "### A.2 データの読み込み (DataFrame型)"
   ]
  },
  {
   "cell_type": "code",
   "execution_count": null,
   "id": "1f2ae7a8-caef-4eac-88dc-bad53222b582",
   "metadata": {
    "tags": []
   },
   "outputs": [],
   "source": [
    "import pandas as pd\n",
    "\n",
    "df = pd.read_excel(\"rakuten-1000-2023-2024.xlsx\")\n",
    "print(df.shape)\n",
    "display(df.head())"
   ]
  },
  {
   "cell_type": "markdown",
   "id": "11b32439-73c7-4571-bc62-e5d6f13123a3",
   "metadata": {},
   "source": [
    "### A.3 集計"
   ]
  },
  {
   "cell_type": "markdown",
   "id": "311e964e-3a5c-40ba-8bb3-19c1c4b2a32e",
   "metadata": {},
   "source": [
    "#### (1) エリア別の件数を表示する"
   ]
  },
  {
   "cell_type": "code",
   "execution_count": null,
   "id": "22c05037-29e2-4b58-8d2e-ace7355c61be",
   "metadata": {
    "tags": []
   },
   "outputs": [],
   "source": [
    "display(df.pivot_table(index=['カテゴリー','エリア'], columns=None, values='コメント', aggfunc='count'))"
   ]
  },
  {
   "cell_type": "markdown",
   "id": "77245fc8-6b25-450f-adcc-bd30bf344306",
   "metadata": {},
   "source": [
    "サンプリングデータなので、すべて1000件になっていることを確認する"
   ]
  },
  {
   "cell_type": "markdown",
   "id": "4f15c281-bb2e-4cbc-ad60-8a8a7615f34e",
   "metadata": {},
   "source": [
    "#### (2) 投稿者の傾向 (年代別x性別、全体で100%)"
   ]
  },
  {
   "cell_type": "code",
   "execution_count": null,
   "id": "efcbd5e0-b68d-4c2c-9d7e-29724f778324",
   "metadata": {
    "tags": []
   },
   "outputs": [],
   "source": [
    "cross_df = pd.crosstab(df['年代'], df['性別'], margins=True, margins_name='合計', normalize=True) * 100\n",
    "display(cross_df.loc[:,['男性','女性','na','合計']].style.format('{:.2f}%').bar(axis=None, vmin=0, width=90, height=90, align='left'))"
   ]
  },
  {
   "cell_type": "markdown",
   "id": "bc5a978b-3a61-4b48-acd6-ceb733070bb1",
   "metadata": {
    "tags": []
   },
   "source": [
    "`na` を除いて表示する"
   ]
  },
  {
   "cell_type": "code",
   "execution_count": null,
   "id": "a5f8f98b-2ef0-4b0f-8955-6d40658c17ba",
   "metadata": {
    "tags": []
   },
   "outputs": [],
   "source": [
    "cross_df = pd.crosstab(df['年代'], df['性別'], margins=False, normalize=True) * 100\n",
    "display(cross_df.loc[cross_df.index!='na',['男性','女性']].style.format('{:.2f}%').bar(axis=None, vmin=0, width=90, height=90, align='left'))"
   ]
  },
  {
   "cell_type": "markdown",
   "id": "cd23984a-879a-4f39-994a-21b322482f85",
   "metadata": {},
   "source": [
    "#### (3) 投稿者の傾向 (性別xカテゴリ別、列ごとで100%)"
   ]
  },
  {
   "cell_type": "code",
   "execution_count": null,
   "id": "fd31a87a-ed18-4451-a115-09ad4d6c43e9",
   "metadata": {
    "tags": []
   },
   "outputs": [],
   "source": [
    "cross_df = pd.crosstab(df['性別'], df['カテゴリー'], margins=True, margins_name='合計', normalize='columns') * 100\n",
    "display(cross_df.loc[['男性','女性','na'],:].style.format('{:.2f}%').bar(axis=None, width=90, height=90, align='left'))"
   ]
  },
  {
   "cell_type": "markdown",
   "id": "b0e59bf0-b943-4f6b-8c9a-6f024776bdeb",
   "metadata": {},
   "source": [
    "`na` を除いて表示する"
   ]
  },
  {
   "cell_type": "code",
   "execution_count": null,
   "id": "4d5a2e53-f985-4d90-9298-944b0686b691",
   "metadata": {
    "tags": []
   },
   "outputs": [],
   "source": [
    "cross_df = pd.crosstab(df['性別'], df['カテゴリー'], margins=False, normalize='columns') * 100\n",
    "display(cross_df.loc[['男性','女性'],:].style.format('{:.2f}%').bar(axis=None, vmin=0, width=90, height=90, align='left'))"
   ]
  },
  {
   "cell_type": "markdown",
   "id": "130b76e1-c69f-4eaa-82f7-7c5a6b4f41eb",
   "metadata": {},
   "source": [
    "#### (4) 投稿者の傾向 (性別xエリア別、列ごとで100%)"
   ]
  },
  {
   "cell_type": "code",
   "execution_count": null,
   "id": "4647651e-8186-4e7d-bebf-68665be08fa7",
   "metadata": {
    "tags": []
   },
   "outputs": [],
   "source": [
    "cross_df = pd.crosstab(df['性別'], [df['カテゴリー'],df['エリア']], margins=True, margins_name='合計', normalize='columns') * 100\n",
    "display(cross_df.loc[['男性','女性','na'],:].style.format('{:.2f}%'))"
   ]
  },
  {
   "cell_type": "markdown",
   "id": "15ffd61c-2de6-470d-8dae-c9ccb5768f0f",
   "metadata": {},
   "source": [
    "カラーバーにすると横に長くなるため、ヒートマップでプロットする"
   ]
  },
  {
   "cell_type": "code",
   "execution_count": null,
   "id": "286c201e-71e8-4c81-bcde-c8c0f83eb10d",
   "metadata": {
    "tags": []
   },
   "outputs": [],
   "source": [
    "import seaborn as sns\n",
    "import matplotlib.pyplot as plt\n",
    "import japanize_matplotlib\n",
    "\n",
    "plt.figure(figsize=(10,3))\n",
    "sns.heatmap(cross_df.loc[['男性','女性','na'],:], annot=True, fmt='.2f', cmap='Blues')\n",
    "plt.show()"
   ]
  },
  {
   "cell_type": "markdown",
   "id": "b6c77999-3d0d-47a5-b1ec-53e0efc98cf0",
   "metadata": {},
   "source": [
    "`na` を除いてプロットする"
   ]
  },
  {
   "cell_type": "code",
   "execution_count": null,
   "id": "6ff9abde-42be-4822-99ae-e4203bd871a7",
   "metadata": {
    "tags": []
   },
   "outputs": [],
   "source": [
    "import seaborn as sns\n",
    "import matplotlib.pyplot as plt\n",
    "import japanize_matplotlib\n",
    "\n",
    "plt.figure(figsize=(10,2))\n",
    "sns.heatmap(cross_df.loc[['男性','女性'],:], annot=True, fmt='.2f', cmap='Blues')\n",
    "plt.show()"
   ]
  },
  {
   "cell_type": "markdown",
   "id": "f6b131af-64da-41a6-a6ac-e87f2aba6389",
   "metadata": {},
   "source": [
    "#### (5) 投稿者の傾向 (年代xエリア別、列ごとで100%)"
   ]
  },
  {
   "cell_type": "code",
   "execution_count": null,
   "id": "3ca3430d-aa5d-4b1b-9574-6bf35330c1f6",
   "metadata": {
    "tags": []
   },
   "outputs": [],
   "source": [
    "cross_df = pd.crosstab(df['年代'], [df['カテゴリー'],df['エリア']], margins=True, margins_name='合計', normalize='columns') * 100\n",
    "display(cross_df.style.format('{:.2f}%'))"
   ]
  },
  {
   "cell_type": "code",
   "execution_count": null,
   "id": "1fb892a1-3be9-4bf7-abe0-b3c45453023c",
   "metadata": {
    "tags": []
   },
   "outputs": [],
   "source": [
    "import seaborn as sns\n",
    "import matplotlib.pyplot as plt\n",
    "import japanize_matplotlib\n",
    "\n",
    "plt.figure(figsize=(10,3))\n",
    "sns.heatmap(cross_df, annot=True, fmt='.2f', cmap='Blues')\n",
    "plt.show()"
   ]
  },
  {
   "cell_type": "markdown",
   "id": "a072bf47-fbe2-4f1d-95b9-0a6f2b15b914",
   "metadata": {},
   "source": [
    "`na` を除いてプロットする"
   ]
  },
  {
   "cell_type": "code",
   "execution_count": null,
   "id": "89c0e717-023c-4036-af6a-a92f39d6efd9",
   "metadata": {
    "tags": []
   },
   "outputs": [],
   "source": [
    "import seaborn as sns\n",
    "import matplotlib.pyplot as plt\n",
    "import japanize_matplotlib\n",
    "\n",
    "plt.figure(figsize=(10,3))\n",
    "sns.heatmap(cross_df.loc[cross_df.index!='na',:], annot=True, fmt='.2f', cmap='Blues')\n",
    "plt.show()"
   ]
  },
  {
   "cell_type": "markdown",
   "id": "8fe5a6c4-215a-4ddc-b0ad-40b6b6fb50ed",
   "metadata": {},
   "source": [
    "#### (6) 投稿者の傾向 (同伴者別xエリア別、列ごとで100%)"
   ]
  },
  {
   "cell_type": "code",
   "execution_count": null,
   "id": "a7bc8a88-5894-4a22-a475-9bc3061cc624",
   "metadata": {
    "tags": []
   },
   "outputs": [],
   "source": [
    "cross_df = pd.crosstab(df['同伴者'], [df['カテゴリー'],df['エリア']], margins=True, margins_name='合計', normalize='columns') * 100\n",
    "display(cross_df.loc[['一人','家族','恋人','友達','仕事仲間','その他'],:].style.format('{:.2f}%'))"
   ]
  },
  {
   "cell_type": "code",
   "execution_count": null,
   "id": "c228364f-6421-4f3c-9206-16a1a6b26eb4",
   "metadata": {
    "tags": []
   },
   "outputs": [],
   "source": [
    "import seaborn as sns\n",
    "import matplotlib.pyplot as plt\n",
    "import japanize_matplotlib\n",
    "\n",
    "plt.figure(figsize=(10,3))\n",
    "sns.heatmap(cross_df.loc[['一人','家族','恋人','友達','仕事仲間','その他'],:], annot=True, fmt='.2f', cmap='Blues')\n",
    "plt.show()"
   ]
  },
  {
   "cell_type": "markdown",
   "id": "60bf96a2-7d85-4397-bc60-e5e1058445c1",
   "metadata": {},
   "source": [
    "#### (7) 数値評価の構成 (総合別xカテゴリ-エリア別、列ごとに100%)"
   ]
  },
  {
   "cell_type": "code",
   "execution_count": null,
   "id": "0ca17179-3e50-4151-b796-929e0eba3995",
   "metadata": {
    "tags": []
   },
   "outputs": [],
   "source": [
    "cross_df = pd.crosstab(df['総合'], [df['カテゴリー'],df['エリア']], margins=True, margins_name='合計', normalize='columns') * 100\n",
    "display(cross_df.loc[[5,4,3,2,1],:].style.format('{:.2f}%'))"
   ]
  },
  {
   "cell_type": "code",
   "execution_count": null,
   "id": "f48687ea-418f-4251-9d3e-25a7849c5537",
   "metadata": {
    "tags": []
   },
   "outputs": [],
   "source": [
    "import seaborn as sns\n",
    "import matplotlib.pyplot as plt\n",
    "import japanize_matplotlib\n",
    "\n",
    "plt.figure(figsize=(10,3))\n",
    "sns.heatmap(cross_df.loc[[5,4,3,2,1],:], annot=True, fmt='.2f', cmap='Blues')\n",
    "plt.show()"
   ]
  },
  {
   "cell_type": "markdown",
   "id": "3b2e3b63-1ea5-4cb1-bb7f-30bd3ca496ba",
   "metadata": {},
   "source": [
    "#### (8) 数値評価の平均 (カテゴリ-エリア別x数値評価別)"
   ]
  },
  {
   "cell_type": "markdown",
   "id": "d2aa9102-de45-4abf-ba2a-fba09c456848",
   "metadata": {},
   "source": [
    "カテゴリ別"
   ]
  },
  {
   "cell_type": "code",
   "execution_count": null,
   "id": "fb905e58-46e9-430f-a7a0-278b50c24ad5",
   "metadata": {
    "tags": []
   },
   "outputs": [],
   "source": [
    "pivot_df = df.pivot_table(index=['カテゴリー','エリア'], values=['サービス','立地','部屋','設備・アメニティ','風呂','食事','総合'], margins=False, aggfunc='mean', dropna=True)\n",
    "display(pivot_df.loc[:,['サービス','立地','部屋','設備・アメニティ','風呂','食事','総合']].style.format('{:.2f}').background_gradient(axis=None))"
   ]
  },
  {
   "cell_type": "markdown",
   "id": "b66fd834-c1a1-464c-8108-63ea106bc9d4",
   "metadata": {},
   "source": [
    "エリア別"
   ]
  },
  {
   "cell_type": "code",
   "execution_count": null,
   "id": "26104c80-9691-4c0a-8cf2-c7144be35c9a",
   "metadata": {
    "tags": []
   },
   "outputs": [],
   "source": [
    "pivot_df = df.pivot_table(index=['カテゴリー'], values=['サービス','立地','部屋','設備・アメニティ','風呂','食事','総合'], margins=False, aggfunc='mean', dropna=True)\n",
    "display(pivot_df.loc[:,['サービス','立地','部屋','設備・アメニティ','風呂','食事','総合']].style.format('{:.2f}').background_gradient(axis=None))"
   ]
  },
  {
   "cell_type": "markdown",
   "id": "44c096b3-1d81-44bd-8874-143db555a18e",
   "metadata": {},
   "source": [
    "#### (9)数値評価の平均 (年代x性別)"
   ]
  },
  {
   "cell_type": "markdown",
   "id": "2bc984e7-3cf7-4e6b-9084-58499cc8de00",
   "metadata": {},
   "source": [
    "20~30代"
   ]
  },
  {
   "cell_type": "code",
   "execution_count": null,
   "id": "59bebb68-f40e-492e-aec7-32cddc2d1156",
   "metadata": {
    "tags": []
   },
   "outputs": [],
   "source": [
    "pivot_df = df[df['年代'].isin(['20代','30代'])].pivot_table(index=['カテゴリー','性別'], values=['サービス','立地','部屋','設備・アメニティ','風呂','食事','総合'], margins=False, aggfunc='mean', dropna=True)\n",
    "display(pivot_df.loc[(['A_レジャー','B_ビジネス'],['男性','女性']),['サービス','立地','部屋','設備・アメニティ','風呂','食事','総合']].style.format('{:.2f}').background_gradient(axis=None))"
   ]
  },
  {
   "cell_type": "markdown",
   "id": "ed54105a-df7c-41f0-993b-e1d2b6f6acce",
   "metadata": {},
   "source": [
    "40~50代"
   ]
  },
  {
   "cell_type": "code",
   "execution_count": null,
   "id": "9e2fbf8b-7563-41c4-b41f-9f3e1d4d9e96",
   "metadata": {
    "tags": []
   },
   "outputs": [],
   "source": [
    "pivot_df = df[df['年代'].isin(['40代','50代'])].pivot_table(index=['カテゴリー','性別'], values=['サービス','立地','部屋','設備・アメニティ','風呂','食事','総合'], margins=False, aggfunc='mean', dropna=True)\n",
    "display(pivot_df.loc[(['A_レジャー','B_ビジネス'],['男性','女性']),['サービス','立地','部屋','設備・アメニティ','風呂','食事','総合']].style.format('{:.2f}').background_gradient(axis=None))"
   ]
  },
  {
   "cell_type": "markdown",
   "id": "db3ee27e-5c61-4a2c-8857-84737883bcb2",
   "metadata": {
    "tags": []
   },
   "source": [
    "60~80代"
   ]
  },
  {
   "cell_type": "code",
   "execution_count": null,
   "id": "7e257bc3-82dd-4fc6-be0c-edf273bcbb05",
   "metadata": {
    "tags": []
   },
   "outputs": [],
   "source": [
    "pivot_df = df[df['年代'].isin(['60代','70代','80代'])].pivot_table(index=['カテゴリー','性別'], values=['サービス','立地','部屋','設備・アメニティ','風呂','食事','総合'], margins=False, aggfunc='mean', dropna=True)\n",
    "display(pivot_df.loc[(['A_レジャー','B_ビジネス'],['男性','女性']),['サービス','立地','部屋','設備・アメニティ','風呂','食事','総合']].style.format('{:.2f}').background_gradient(axis=None))"
   ]
  },
  {
   "cell_type": "code",
   "execution_count": null,
   "id": "f76a6c2c-93e3-43d5-81ce-d37abe713af8",
   "metadata": {},
   "outputs": [],
   "source": []
  }
 ],
 "metadata": {
  "kernelspec": {
   "display_name": "gssm2024",
   "language": "python",
   "name": "python3"
  },
  "language_info": {
   "codemirror_mode": {
    "name": "ipython",
    "version": 3
   },
   "file_extension": ".py",
   "mimetype": "text/x-python",
   "name": "python",
   "nbconvert_exporter": "python",
   "pygments_lexer": "ipython3",
   "version": "3.11.3"
  },
  "toc-autonumbering": false
 },
 "nbformat": 4,
 "nbformat_minor": 5
}
