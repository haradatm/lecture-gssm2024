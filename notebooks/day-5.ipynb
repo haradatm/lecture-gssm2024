{
 "cells": [
  {
   "cell_type": "markdown",
   "id": "ca6f6ed6-79e9-4efc-836a-040000ce8c89",
   "metadata": {
    "tags": []
   },
   "source": [
    "# day 5"
   ]
  },
  {
   "cell_type": "markdown",
   "id": "c37b43ff",
   "metadata": {},
   "source": [
    "このノートブックの実行例は[こちら(HTML版)](../notebooks-sample/day-5.html)で確認できます"
   ]
  },
  {
   "cell_type": "markdown",
   "id": "a7303c7b",
   "metadata": {},
   "source": [
    "---"
   ]
  },
  {
   "cell_type": "markdown",
   "id": "14d9bc8c-8096-4d76-b983-250b7a4b8203",
   "metadata": {},
   "source": [
    "## 0. はじめに"
   ]
  },
  {
   "cell_type": "markdown",
   "id": "1a794a09-51b9-449b-b699-32a6318de81b",
   "metadata": {},
   "source": [
    "ページ上部のメニューバーにある **Kernel** メニューをクリックし、プルダウンメニューから [**Change Kernel ...**] を選び、**gssm2024:Python** を選択してください。\n",
    "\n",
    "<img src=\"images/change_kernel1.png\" width=\"30%\">"
   ]
  },
  {
   "cell_type": "markdown",
   "id": "097064cc-d520-4893-a0e6-16ff5b34c15a",
   "metadata": {},
   "source": [
    "ノートブック上部の右隅に表示されたカーネル名が **gssm2024:Python** になっていることを確認してください。\n",
    "\n",
    "<img src=\"images/change_kernel2.png\" width=\"30%\">\n",
    "\n",
    "---"
   ]
  },
  {
   "cell_type": "markdown",
   "id": "8038e0af-8843-493e-831f-2bceee5b6656",
   "metadata": {},
   "source": [
    "## 1. テキスト分析 (実践編)"
   ]
  },
  {
   "cell_type": "markdown",
   "id": "110e3e63",
   "metadata": {},
   "source": [
    "### 1.0 事前準備"
   ]
  },
  {
   "cell_type": "markdown",
   "id": "bfad7a6b",
   "metadata": {},
   "source": [
    "#### 1.0.1 定義済み関数の読み込み"
   ]
  },
  {
   "cell_type": "markdown",
   "id": "f4cb3e5b",
   "metadata": {},
   "source": [
    "以下のセルを**修正せず**に実行してください"
   ]
  },
  {
   "cell_type": "code",
   "execution_count": null,
   "id": "74b83452",
   "metadata": {},
   "outputs": [],
   "source": [
    "import warnings\n",
    "warnings.simplefilter('ignore')\n",
    "\n",
    "import gssm_utils\n",
    "\n",
    "%matplotlib inline"
   ]
  },
  {
   "cell_type": "markdown",
   "id": "1867f595",
   "metadata": {},
   "source": [
    "#### 1.0.1 データのダウンロード (前回ダウンロード済みのためスキップ)"
   ]
  },
  {
   "cell_type": "markdown",
   "id": "2368d5e8",
   "metadata": {},
   "source": [
    "以下のデータがダウンロード済みです"
   ]
  },
  {
   "cell_type": "markdown",
   "id": "27502dbc",
   "metadata": {},
   "source": [
    "| ファイル名 | 件数 | データセット | 備考 |\n",
    "| --- | --- | --- | --- |\n",
    "| rakuten-1000-2023-2024.xlsx.zip | 10,000 | •レジャー+ビジネスの 10エリア<br>•エリアごと 1,000件 (ランダムサンプリング)<br>•期間: 2023/1~2024 GW明け | 本講義の全体を通して使用する |"
   ]
  },
  {
   "cell_type": "code",
   "execution_count": null,
   "id": "97c5cc0b",
   "metadata": {},
   "outputs": [],
   "source": [
    "# もし、再度ダウンロードが必要な場合は残りの行のコメントマーク「#」を除去して、このセルを再実行してください\n",
    "\n",
    "# FILE_ID = \"1EeCuDrfKdlsMxG9p3Ot7TIxfV9_f2smY\"\n",
    "# !gdown --id {FILE_ID}\n",
    "# !unzip -o rakuten-1000-2023-2024.xlsx.zip"
   ]
  },
  {
   "cell_type": "markdown",
   "id": "6bba6d12",
   "metadata": {},
   "source": [
    "#### 1.0.2 データの読み込み (DataFrame型)"
   ]
  },
  {
   "cell_type": "code",
   "execution_count": null,
   "id": "21af64cf",
   "metadata": {},
   "outputs": [],
   "source": [
    "import numpy as np\n",
    "import pandas as pd\n",
    "\n",
    "all_df = pd.read_excel(\"rakuten-1000-2023-2024.xlsx\")\n",
    "print(all_df.shape)\n",
    "display(all_df.head())"
   ]
  },
  {
   "cell_type": "markdown",
   "id": "46c983a2",
   "metadata": {},
   "source": [
    "#### 1.0.3 「文書-抽出語」表 を作成する"
   ]
  },
  {
   "cell_type": "markdown",
   "id": "6e99c1ac",
   "metadata": {},
   "source": [
    "コメント列から単語を抽出する (単語を品詞「名詞」「形容詞」「未知語」で絞り込む)"
   ]
  },
  {
   "cell_type": "code",
   "execution_count": null,
   "id": "9f750bf2",
   "metadata": {},
   "outputs": [],
   "source": [
    "# 必要ライブラリのインポート\n",
    "from collections import defaultdict\n",
    "import MeCab\n",
    "\n",
    "# mecab の初期化\n",
    "tagger = MeCab.Tagger(\"-r ../tools/usr/local/etc/mecabrc --unk-feature 未知語\")\n",
    "\n",
    "# 単語頻度辞書の初期化\n",
    "word_counts = defaultdict(lambda: 0)\n",
    "\n",
    "# 抽出語情報リストの初期化\n",
    "words = []\n",
    "\n",
    "# 半角->全角変換マクロを定義する\n",
    "ZEN = \"\".join(chr(0xff01 + i) for i in range(94))\n",
    "HAN = \"\".join(chr(0x21 + i) for i in range(94))\n",
    "HAN2ZEN = str.maketrans(HAN, ZEN)\n",
    "\n",
    "# ストップワードを定義する\n",
    "# stopwords = ['する', 'ある', 'ない', 'いう', 'もの', 'こと', 'よう', 'なる', 'ほう']\n",
    "stopwords = [\"湯畑\"]\n",
    "\n",
    "# データ1行ごとのループ\n",
    "for index, row in all_df.iterrows():\n",
    "\n",
    "    # 半角->全角変換した後で, mecab で解析する\n",
    "    node = tagger.parseToNode(row[\"コメント\"].translate(HAN2ZEN))\n",
    "\n",
    "    # 形態素ごとのループ\n",
    "    while node:\n",
    "        # 解析結果を要素ごとにバラす\n",
    "        features = node.feature.split(',')\n",
    "\n",
    "        # 品詞1 を取り出す\n",
    "        pos1 = features[0]\n",
    "\n",
    "        # 品詞2 を取り出す\n",
    "        pos2 = features[1] if len(features) > 1 else \"\"\n",
    "\n",
    "        # 原形 を取り出す\n",
    "        base = features[6] if len(features) > 6 else None\n",
    "\n",
    "        # 原型がストップワードに含まれない単語のみ抽出する\n",
    "        if base not in stopwords:\n",
    "\n",
    "            # 「名詞-一般」\n",
    "            if (pos1 == \"名詞\" and pos2 == \"一般\"):\n",
    "                base = base if base is not None else node.surface\n",
    "                postag = \"名詞\"\n",
    "                key = (base, postag)\n",
    "\n",
    "                # 単語頻度辞書をカウントアップする\n",
    "                word_counts[key] += 1\n",
    "\n",
    "                # 抽出語情報をリストに追加する\n",
    "                words.append([index + 1, base, postag, row[\"カテゴリー\"], row[\"エリア\"], key])\n",
    "\n",
    "            # 「形容動詞」\n",
    "            elif (pos1 == \"名詞\" and pos2 == \"形容動詞語幹\"):\n",
    "                base = base if base is not None else node.surface\n",
    "                base = f\"{base}\"\n",
    "                postag = \"形容動詞\"\n",
    "                key = (base, postag)\n",
    "\n",
    "                # 単語頻度辞書をカウントアップする\n",
    "                word_counts[key] += 1\n",
    "\n",
    "                # 抽出語情報をリストに追加する\n",
    "                words.append([index + 1, base, postag, row[\"カテゴリー\"], row[\"エリア\"], key])\n",
    "\n",
    "            # 「形容詞」\n",
    "            elif pos1 == \"形容詞\":\n",
    "                base = base if base is not None else node.surface\n",
    "                postag = \"形容詞\"\n",
    "                key = (base, postag)\n",
    "\n",
    "                # 単語頻度辞書をカウントアップする\n",
    "                word_counts[key] += 1\n",
    "\n",
    "                # 抽出語情報をリストに追加する\n",
    "                words.append([index + 1, base, postag, row[\"カテゴリー\"], row[\"エリア\"], key])\n",
    "\n",
    "            # 「未知語」\n",
    "            elif pos1 == \"未知語\":\n",
    "                base = base if base is not None else node.surface\n",
    "                postag = \"未知語\"\n",
    "                key = (base, postag)\n",
    "\n",
    "                # 単語頻度辞書をカウントアップする\n",
    "                word_counts[key] += 1\n",
    "\n",
    "                # 抽出語情報をリストに追加する\n",
    "                words.append([index + 1, base, postag, row[\"カテゴリー\"], row[\"エリア\"], key])\n",
    "\n",
    "        # 次の形態素へ\n",
    "        node = node.next\n",
    "\n",
    "# DataFrme 型に整える\n",
    "columns = [\n",
    "    \"文書ID\",\n",
    "    # \"単語ID\",\n",
    "    \"表層\",\n",
    "    \"品詞\",\n",
    "    \"カテゴリー\",\n",
    "    \"エリア\",\n",
    "    \"dict_key\",\n",
    "]\n",
    "docs_df = pd.DataFrame(words, columns=columns)\n",
    "\n",
    "# DataFrame を表示する\n",
    "print(docs_df.shape)\n",
    "display(docs_df.head())"
   ]
  },
  {
   "cell_type": "markdown",
   "id": "9acea1bc",
   "metadata": {},
   "source": [
    "抽出語の出現頻度をカウントする"
   ]
  },
  {
   "cell_type": "code",
   "execution_count": null,
   "id": "d1e05e96",
   "metadata": {},
   "outputs": [],
   "source": [
    "# 「文書-抽出語」 表から単語の出現回数をカウントする\n",
    "word_list = []\n",
    "for i, (k, v) in enumerate(sorted(word_counts.items(), key=lambda x:x[1], reverse=True)):\n",
    "    word_list.append((i, k[0], v, k))\n",
    "\n",
    "# DataFrame 型に整える\n",
    "columns = [\n",
    "    \"単語ID\",\n",
    "    \"表層\",\n",
    "    \"出現頻度\",\n",
    "    \"dict_key\"\n",
    "]\n",
    "\n",
    "# DataFrame を表示する\n",
    "word_counts_df = pd.DataFrame(word_list, columns=columns)\n",
    "print(word_counts_df.shape)\n",
    "display(word_counts_df.head(10))"
   ]
  },
  {
   "cell_type": "markdown",
   "id": "c61ec9a1",
   "metadata": {},
   "source": [
    "### 1.1 カテゴリーやエリアごとのユーザーの注目ポイントを押さえる"
   ]
  },
  {
   "cell_type": "markdown",
   "id": "9787d1e6",
   "metadata": {},
   "source": [
    "#### 2.1.1 「文書-抽出語」表の作成"
   ]
  },
  {
   "cell_type": "markdown",
   "id": "823cc0ba",
   "metadata": {},
   "source": [
    "「文書-抽出語」表を作成する (出現回数 Top 1000語)"
   ]
  },
  {
   "cell_type": "code",
   "execution_count": null,
   "id": "95ef86f2",
   "metadata": {},
   "outputs": [],
   "source": [
    "# 「単語出現回数」 表から出現回数Top 1000語のみ抽出する\n",
    "word_counts_1000_df = word_counts_df[0:1000]\n",
    "\n",
    "# 「文書-抽出語」 表も出現回数Top 150語のみに絞り込む\n",
    "merged_df = pd.merge(docs_df, word_counts_1000_df, how=\"inner\", on=\"dict_key\", suffixes=[\"\", \"_right\"])\n",
    "docs_1000_df = merged_df[[\"文書ID\", \"単語ID\", \"表層\", \"品詞\", \"カテゴリー\", \"エリア\", \"dict_key\"]]\n",
    "\n",
    "# 「カテゴリー,エリア」でクロス集計する\n",
    "cross_1000_df = pd.crosstab(\n",
    "    [\n",
    "        docs_1000_df['カテゴリー'], \n",
    "        docs_1000_df['エリア'], \n",
    "        docs_1000_df['文書ID']\n",
    "    ],\n",
    "    docs_1000_df['単語ID'], margins=False\n",
    ")\n",
    "cross_1000_df.columns = word_counts_1000_df[\"表層\"]"
   ]
  },
  {
   "cell_type": "markdown",
   "id": "9434997f",
   "metadata": {},
   "source": [
    "「文書-抽出語」表を {0,1} に変換する"
   ]
  },
  {
   "cell_type": "code",
   "execution_count": null,
   "id": "59d040de",
   "metadata": {},
   "outputs": [],
   "source": [
    "# 「文書-抽出語」 表を {0,1} に変換する\n",
    "cross_1000_df[cross_1000_df > 0] = 1\n",
    "\n",
    "# DataFrame を表示する\n",
    "print(cross_1000_df.shape)\n",
    "display(cross_1000_df)"
   ]
  },
  {
   "cell_type": "markdown",
   "id": "9ffe36d3",
   "metadata": {},
   "source": [
    "#### 2.1.2 共起行列を作成する (外部変数-抽出語)"
   ]
  },
  {
   "cell_type": "code",
   "execution_count": null,
   "id": "a1edaa29",
   "metadata": {},
   "outputs": [],
   "source": [
    "# 「カテゴリー」のクロス集計と「エリア」のクロス集計を連結する\n",
    "aggregate_df = pd.concat(\n",
    "    [\n",
    "        cross_1000_df.groupby(level='カテゴリー').sum(),\n",
    "        cross_1000_df.groupby(level='エリア').sum()\n",
    "    ]\n",
    ")\n",
    "\n",
    "# DataFrame を表示する\n",
    "print(aggregate_df.shape)\n",
    "display(aggregate_df)"
   ]
  },
  {
   "cell_type": "markdown",
   "id": "53e4a19b",
   "metadata": {},
   "source": [
    "#### 2.1.3 Jaccard 係数を求める (外部変数-抽出語)"
   ]
  },
  {
   "cell_type": "code",
   "execution_count": null,
   "id": "7f9e8275",
   "metadata": {},
   "outputs": [],
   "source": [
    "# 抽出語の出現回数を取得する\n",
    "word_counts = cross_1000_df.sum(axis=0).values\n",
    "\n",
    "# 属性(外部変数)出現数を取得する\n",
    "attr_counts = np.hstack(\n",
    "    [\n",
    "        all_df.value_counts('カテゴリー').values,\n",
    "        all_df.value_counts('エリア').values\n",
    "    ]\n",
    ")\n",
    "\n",
    "# 共起行列の中身を Jaccard 係数に入れ替える\n",
    "jaccard_attrs_df = gssm_utils.jaccard_attrs_coef(aggregate_df, attr_counts, word_counts, total=10000, conditional=False)\n",
    "\n",
    "# DataFrame を表示する\n",
    "print(jaccard_attrs_df.shape)\n",
    "display(jaccard_attrs_df)"
   ]
  },
  {
   "cell_type": "markdown",
   "id": "3ca2bc5b",
   "metadata": {},
   "source": [
    "#### 2.1.4 特徴語ランキング"
   ]
  },
  {
   "cell_type": "code",
   "execution_count": null,
   "id": "76379fc9",
   "metadata": {},
   "outputs": [],
   "source": [
    "# 「カテゴリ」や「エリア」ごとに Jaccard 係数のTop 10語を抽出する\n",
    "df_list = []\n",
    "for index, row in jaccard_attrs_df.iterrows():\n",
    "    df_list.append(row.iloc[np.argsort(row.values)[::-1][:10]].reset_index())\n",
    "\n",
    "# 「カテゴリ」や「エリア」ごとの Jaccard 係数のTop 10 を横方向に連結した DetaFrame を作成する\n",
    "ranking_df = pd.DataFrame(pd.concat(df_list, axis=1))\n",
    "ranking_df.columns = np.array([c for pair in [[x,f\"jaccard\"] for x in jaccard_attrs_df.index] for c in pair], dtype='object')\n",
    "\n",
    "# DataFrame を表示する\n",
    "display(ranking_df)"
   ]
  },
  {
   "cell_type": "markdown",
   "id": "ce89a350",
   "metadata": {},
   "source": [
    "#### 2.1.5 ワードクラウド"
   ]
  },
  {
   "cell_type": "code",
   "execution_count": null,
   "id": "56b1166c",
   "metadata": {},
   "outputs": [],
   "source": [
    "import matplotlib.pyplot as plt\n",
    "%matplotlib inline\n",
    "\n",
    "# サブルーチン\n",
    "def sort_and_plot(name, group):\n",
    "\n",
    "    # 「カテゴリー」ごとに Jaccard 係数でソートする\n",
    "    sorted_columns = np.argsort(jaccard_attrs_df.loc[name].values)[::-1][:75]\n",
    "\n",
    "    # Jaccard 係数Top 75語をソートして抽出する\n",
    "    group_cross_df = group.iloc[:,sorted_columns]\n",
    "\n",
    "    # プロットする\n",
    "    ax = fig.add_subplot(4, 3, i+1)\n",
    "    gssm_utils.plot_wordcloud_ax(ax, \" \".join(group_cross_df.columns))\n",
    "    ax.set_title(name)\n",
    "\n",
    "\n",
    "# プロットの準備\n",
    "fig = plt.figure(figsize=(12, 9))\n",
    "\n",
    "i = 0\n",
    "# カテゴリごとのループ\n",
    "for name, group in cross_1000_df.groupby(level='カテゴリー'):\n",
    "    # サブルーチンを呼ぶ\n",
    "    sort_and_plot(name, group)\n",
    "    i += 1\n",
    "\n",
    "    # エリアごとのループ\n",
    "    for sub_name, sub_group in group.groupby(level='エリア'):\n",
    "        # サブルーチンを呼ぶ\n",
    "        sort_and_plot(sub_name, sub_group)\n",
    "        i += 1\n",
    "\n",
    "# プロットの仕上げ\n",
    "plt.tight_layout()\n",
    "plt.show()"
   ]
  },
  {
   "cell_type": "markdown",
   "id": "1014c93e",
   "metadata": {},
   "source": [
    "#### 2.1.6 共起ネットワーク図 (カテゴリ)"
   ]
  },
  {
   "cell_type": "code",
   "execution_count": null,
   "id": "40d18e81",
   "metadata": {},
   "outputs": [],
   "source": [
    "# 抽出語の出現回数を取得する\n",
    "word_counts = cross_1000_df.sum(axis=0).values\n",
    "\n",
    "# 属性(外部変数)出現数を取得する\n",
    "attr_counts = np.hstack(\n",
    "    [\n",
    "        all_df.value_counts('カテゴリー').values,\n",
    "    ]\n",
    ")\n",
    "\n",
    "# カテゴリのみの共起行列(共起度数)を取得する\n",
    "df = aggregate_df.loc[[\"A_レジャー\",\"B_ビジネス\"],:]\n",
    "\n",
    "# 共起行列(共起度数)で共起ネットワーク図を作成する\n",
    "gssm_utils.plot_attrs_network(df, attr_counts, word_counts, np.sort(df.values.reshape(-1))[::-1][60], width=8, height=8)"
   ]
  },
  {
   "cell_type": "markdown",
   "id": "6efa38db",
   "metadata": {},
   "source": [
    "#### 2.1.7 共起ネットワーク図 (エリア)"
   ]
  },
  {
   "cell_type": "code",
   "execution_count": null,
   "id": "d6b62360",
   "metadata": {},
   "outputs": [],
   "source": [
    "# 抽出語の出現回数を取得する\n",
    "word_counts = cross_1000_df.sum(axis=0).values\n",
    "\n",
    "# 属性(外部変数)出現数を取得する\n",
    "attr_counts = np.hstack(\n",
    "    [\n",
    "        all_df.value_counts('エリア').values,\n",
    "    ]\n",
    ")\n",
    "\n",
    "# カテゴリのみの共起行列(共起度数)を取得する\n",
    "df = aggregate_df.iloc[2:,:]\n",
    "\n",
    "# 共起行列((共起度数)で共起ネットワーク図を作成する\n",
    "gssm_utils.plot_attrs_network(df, attr_counts, word_counts, np.sort(df.values.reshape(-1))[::-1][120], width=8, height=8)"
   ]
  },
  {
   "cell_type": "markdown",
   "id": "ec185de7",
   "metadata": {},
   "source": [
    "### 1.2 カテゴリーやエリアごとのユーザーの注目ポイントの評価の違いを見つける"
   ]
  },
  {
   "cell_type": "markdown",
   "id": "b92f6c84",
   "metadata": {},
   "source": [
    "#### 1.1.1 「文書-抽出語」表の作成"
   ]
  },
  {
   "cell_type": "markdown",
   "id": "d5d2d301",
   "metadata": {},
   "source": [
    "「文書-抽出語」表を作成する (出現回数 Top 1000語)"
   ]
  },
  {
   "cell_type": "code",
   "execution_count": null,
   "id": "724abed1",
   "metadata": {},
   "outputs": [],
   "source": [
    "# 「単語出現回数」 表から出現回数Top 1000語のみ抽出する\n",
    "word_counts_1000_df = word_counts_df[0:1000]\n",
    "\n",
    "# 「文書-抽出語」 表も出現回数Top 150語のみに絞り込む\n",
    "merged_df = pd.merge(docs_df, word_counts_1000_df, how=\"inner\", on=\"dict_key\", suffixes=[\"\", \"_right\"])\n",
    "docs_1000_df = merged_df[[\"文書ID\", \"単語ID\", \"表層\", \"品詞\", \"カテゴリー\", \"エリア\", \"dict_key\"]]\n",
    "\n",
    "# 「カテゴリー,エリア」でクロス集計する\n",
    "cross_1000_df = pd.crosstab(\n",
    "    [\n",
    "        docs_1000_df['カテゴリー'], \n",
    "        docs_1000_df['エリア'], \n",
    "        docs_1000_df['文書ID']\n",
    "    ],\n",
    "    docs_1000_df['単語ID'], margins=False\n",
    ")\n",
    "cross_1000_df.columns = word_counts_1000_df[\"表層\"]"
   ]
  },
  {
   "cell_type": "markdown",
   "id": "9aabc820",
   "metadata": {},
   "source": [
    "「文書-抽出語」表を {0,1} に変換する"
   ]
  },
  {
   "cell_type": "code",
   "execution_count": null,
   "id": "24cd3310",
   "metadata": {},
   "outputs": [],
   "source": [
    "# 「文書-抽出語」 表を {0,1} に変換する\n",
    "cross_1000_df[cross_1000_df > 0] = 1\n",
    "\n",
    "# DataFrame を表示する\n",
    "print(cross_1000_df.shape)\n",
    "display(cross_1000_df)"
   ]
  },
  {
   "cell_type": "markdown",
   "id": "6524d454",
   "metadata": {},
   "source": [
    "#### 1.1.2 共起行列を作成する (外部変数-抽出語)"
   ]
  },
  {
   "cell_type": "code",
   "execution_count": null,
   "id": "f241fe6d",
   "metadata": {},
   "outputs": [],
   "source": [
    "# 「カテゴリー」のクロス集計と「エリア」のクロス集計を連結する\n",
    "aggregate_df = pd.concat(\n",
    "    [\n",
    "        cross_1000_df.groupby(level='カテゴリー').sum(),\n",
    "        cross_1000_df.groupby(level='エリア').sum()\n",
    "    ]\n",
    ")\n",
    "\n",
    "# DataFrame を表示する\n",
    "print(aggregate_df.shape)\n",
    "display(aggregate_df)"
   ]
  },
  {
   "cell_type": "markdown",
   "id": "e384ac91",
   "metadata": {},
   "source": [
    "#### 1.1.3 Jaccard 係数を求める (外部変数-抽出語)"
   ]
  },
  {
   "cell_type": "code",
   "execution_count": null,
   "id": "b008e42d",
   "metadata": {},
   "outputs": [],
   "source": [
    "# 抽出語の出現回数を取得する\n",
    "word_counts = cross_1000_df.sum(axis=0).values\n",
    "\n",
    "# 属性(外部変数)出現数を取得する\n",
    "attr_counts = np.hstack(\n",
    "    [\n",
    "        all_df.value_counts('カテゴリー').values,\n",
    "        all_df.value_counts('エリア').values\n",
    "    ]\n",
    ")\n",
    "\n",
    "# 共起行列の中身を Jaccard 係数に入れ替える\n",
    "jaccard_attrs_df = gssm_utils.jaccard_attrs_coef(aggregate_df, attr_counts, word_counts, total=10000, conditional=False)\n",
    "\n",
    "# DataFrame を表示する\n",
    "print(jaccard_attrs_df.shape)\n",
    "display(jaccard_attrs_df)"
   ]
  },
  {
   "cell_type": "markdown",
   "id": "7ccc5e1b",
   "metadata": {},
   "source": [
    "#### 2.1.6 共起ネットワーク図"
   ]
  },
  {
   "cell_type": "code",
   "execution_count": null,
   "id": "4b608a07",
   "metadata": {},
   "outputs": [],
   "source": [
    "# 必要ライブラリのインポート\n",
    "from scipy.sparse import csc_matrix\n",
    "import matplotlib.pyplot as plt\n",
    "%matplotlib inline\n",
    "\n",
    "# サブルーチン\n",
    "def sort_and_plot(name, group):\n",
    "\n",
    "    # 「カテゴリー」ごとに Jaccard 係数でソートする\n",
    "    sorted_columns = np.argsort(jaccard_attrs_df.loc[name].values)[::-1][:75]\n",
    "\n",
    "    # Jaccard 係数Top 75語をソートして抽出する\n",
    "    group_cross_df = group.iloc[:,sorted_columns]\n",
    "\n",
    "    # 共起行列を作成する\n",
    "    X = group_cross_df.values\n",
    "    X = csc_matrix(X)\n",
    "    Xc = (X.T * X)\n",
    "    Xc = np.triu(Xc.toarray())\n",
    "\n",
    "    # 共起行列を DataFrame に整える\n",
    "    group_cooccur_df = pd.DataFrame(Xc, columns=group_cross_df.columns, index=group_cross_df.columns)\n",
    "\n",
    "    # 共起行列の中身を Jaccard 係数に入れ替える\n",
    "    group_jaccard_df = gssm_utils.jaccard_coef(group_cooccur_df, group_cross_df)\n",
    "\n",
    "    # 抽出語の出現回数を取得する\n",
    "    word_counts = group_cross_df.sum(axis=0).values\n",
    "\n",
    "    # プロットする\n",
    "    ax = fig.add_subplot(4, 3, i+1)\n",
    "    gssm_utils.plot_cooccur_network_ax(ax, group_jaccard_df, word_counts, np.sort(group_jaccard_df.values.reshape(-1))[::-1][120], html=True)\n",
    "    ax.set_title(name)\n",
    "\n",
    "\n",
    "# プロットの準備\n",
    "# fig = plt.figure(figsize=(20, 28))\n",
    "fig = plt.figure(figsize=(28, 28))\n",
    "\n",
    "i = 0\n",
    "# カテゴリごとのループ\n",
    "for name, group in cross_1000_df.groupby(level='カテゴリー'):\n",
    "    # サブルーチンを呼ぶ\n",
    "    sort_and_plot(name, group)\n",
    "    i += 1\n",
    "\n",
    "    # エリアごとのループ\n",
    "    for sub_name, sub_group in group.groupby(level='エリア'):\n",
    "        # サブルーチンを呼ぶ\n",
    "        sort_and_plot(sub_name, sub_group)\n",
    "        i += 1\n",
    "\n",
    "# プロットの仕上げ\n",
    "plt.tight_layout()\n",
    "plt.show()"
   ]
  },
  {
   "cell_type": "markdown",
   "id": "4a95b8f1",
   "metadata": {},
   "source": [
    "### 1.3 高評価のエリアに倣って、低評価のエリアを改善するプランを提案する"
   ]
  },
  {
   "cell_type": "markdown",
   "id": "60d2c7ba",
   "metadata": {},
   "source": [
    "#### 1.2.0 対照的な2エリアを選択する"
   ]
  },
  {
   "cell_type": "code",
   "execution_count": null,
   "id": "d7aa54e6",
   "metadata": {},
   "outputs": [],
   "source": [
    "# コーディングルール\n",
    "coding_pos = [\"良い\",\"美味しい\",\"広い\",\"多い\",\"素晴らしい\",\"嬉しい\",\"気持ちよい\",\"楽しい\",\"近い\",\"大きい\",\"気持ち良い\",\"温かい\",\"早い\",\"優しい\",\"新しい\",\"暖かい\",\"快い\",\"明るい\",\"美しい\",\"可愛い\",\"満足\"]\n",
    "coding_neg = [\"古い\",\"無い\",\"高い\",\"悪い\",\"小さい\",\"狭い\",\"少ない\",\"寒い\",\"遅い\",\"熱い\",\"欲しい\",\"暑い\",\"冷たい\",\"遠い\",\"臭い\",\"暗い\",\"うるさい\",\"ない\",\"無い\",\"残念\",\"改善\",\"不満\"]"
   ]
  },
  {
   "cell_type": "code",
   "execution_count": null,
   "id": "decabd60",
   "metadata": {},
   "outputs": [],
   "source": [
    "# DataFrame を初期化する\n",
    "cross_1000_ps_df = cross_1000_df.copy()\n",
    "cross_1000_ps_df['ポジ'] = 0\n",
    "cross_1000_ps_df['ネガ'] = 0\n",
    "cross_1000_ps_df['総合1-2'] = 0\n",
    "cross_1000_ps_df['総合4-5'] = 0\n",
    "\n",
    "# コーディングルールを適用する (ポジ・ネガ)\n",
    "pos_index = docs_df['表層'].str.contains(\"|\".join(coding_pos))\n",
    "neg_index = docs_df['表層'].str.contains(\"|\".join(coding_neg))\n",
    "cross_1000_ps_df.loc[cross_1000_ps_df.index.get_level_values('文書ID').isin(docs_df.loc[pos_index, '文書ID']), 'ポジ'] = 1\n",
    "cross_1000_ps_df.loc[cross_1000_ps_df.index.get_level_values('文書ID').isin(docs_df.loc[neg_index, '文書ID']), 'ネガ'] = 1\n",
    "\n",
    "# コーディングルールを適用する (総合評価)\n",
    "cross_1000_ps_df.loc[cross_1000_ps_df.index.get_level_values('文書ID').isin(all_df[all_df['総合'] <=2].index), '総合1-2'] = 1\n",
    "cross_1000_ps_df.loc[cross_1000_ps_df.index.get_level_values('文書ID').isin(all_df[all_df['総合'] >=4].index), '総合4-5'] = 1\n",
    "cross_1000_ps_df = cross_1000_ps_df[['ポジ','ネガ','総合1-2','総合4-5']]\n",
    "\n",
    "# DataFrame を表示する\n",
    "print(cross_1000_ps_df.shape)\n",
    "display(cross_1000_ps_df)"
   ]
  },
  {
   "cell_type": "code",
   "execution_count": null,
   "id": "a0851666",
   "metadata": {},
   "outputs": [],
   "source": [
    "# 「カテゴリー」のクロス集計と「エリア」のクロス集計を連結する\n",
    "aggregate_ps_df = pd.concat(\n",
    "    [\n",
    "        cross_1000_ps_df.groupby(level='カテゴリー').sum(),\n",
    "        cross_1000_ps_df.groupby(level='エリア').sum()\n",
    "    ]\n",
    ")\n",
    "\n",
    "# DataFrame を表示する\n",
    "print(aggregate_ps_df.shape)\n",
    "display(aggregate_ps_df)"
   ]
  },
  {
   "cell_type": "code",
   "execution_count": null,
   "id": "5e6926eb",
   "metadata": {},
   "outputs": [],
   "source": [
    "# 必要ライブラリのインポート\n",
    "import mca\n",
    "\n",
    "# ライブラリ mca による対応分析\n",
    "ncols = aggregate_ps_df.shape[1]\n",
    "mca_ben = mca.MCA(aggregate_ps_df, ncols=ncols, benzecri=False)\n",
    "\n",
    "# 行方向および列方向の値を取り出す\n",
    "row_coord = mca_ben.fs_r(N=2)\n",
    "col_coord = mca_ben.fs_c(N=2)\n",
    "\n",
    "# 固有値を求める\n",
    "eigenvalues = mca_ben.L\n",
    "total = np.sum(eigenvalues)\n",
    "# 寄与率を求める\n",
    "explained_inertia = 100 * eigenvalues / total\n",
    "\n",
    "# 行方向および列方向のラベルを取得する\n",
    "row_labels = aggregate_ps_df.index\n",
    "col_labels = aggregate_ps_df.columns\n",
    "\n",
    "# プロットする\n",
    "gssm_utils.plot_coresp(row_coord, col_coord, row_labels, col_labels, explained_inertia)"
   ]
  },
  {
   "cell_type": "markdown",
   "id": "6914307a",
   "metadata": {},
   "source": [
    "#### 1.2.1 ポジティブ意見の「文書-抽出語」表を作成する"
   ]
  },
  {
   "cell_type": "code",
   "execution_count": null,
   "id": "3f38f1d2",
   "metadata": {},
   "outputs": [],
   "source": [
    "# 必要ライブラリのインポート\n",
    "from scipy.sparse import csc_matrix\n",
    "import matplotlib.pyplot as plt\n",
    "%matplotlib inline\n",
    "\n",
    "# コーディングルール\n",
    "coding_or = coding_pos\n",
    "\n",
    "# サブルーチン\n",
    "def sort_and_plot(name, group):\n",
    "\n",
    "    # 「カテゴリー」ごとに Jaccard 係数でソートする\n",
    "    sorted_columns = np.argsort(jaccard_attrs_df.loc[name].values)[::-1][:75]\n",
    "\n",
    "    # Jaccard 係数Top 75語をソートして抽出する\n",
    "    group_cross_df = group.iloc[:,sorted_columns]\n",
    "\n",
    "    # 共起行列を作成する\n",
    "    X = group_cross_df.values\n",
    "    X = csc_matrix(X)\n",
    "    Xc = (X.T * X)\n",
    "    Xc = np.triu(Xc.toarray())\n",
    "\n",
    "    # コーディングルールで絞り込む\n",
    "    index = docs_df['表層'].str.contains(\"|\".join(coding_or))\n",
    "    group_cross_df = group_cross_df[group_cross_df.index.get_level_values('文書ID').isin(docs_df.loc[index, '文書ID'])]\n",
    "\n",
    "    # 共起行列を DataFrame に整える\n",
    "    group_cooccur_df = pd.DataFrame(Xc, columns=group_cross_df.columns, index=group_cross_df.columns)\n",
    "\n",
    "    # 共起行列の中身を Jaccard 係数に入れ替える\n",
    "    group_jaccard_df = gssm_utils.jaccard_coef(group_cooccur_df, group_cross_df)\n",
    "\n",
    "    # 抽出語の出現回数を取得する\n",
    "    word_counts = group_cross_df.sum(axis=0).values\n",
    "\n",
    "    # プロットする\n",
    "    ax = fig.add_subplot(4, 3, i+1)\n",
    "    gssm_utils.plot_cooccur_network_with_code_ax(ax, group_jaccard_df, word_counts, np.sort(group_jaccard_df.values.reshape(-1))[::-1][120], coding_or, html=True)\n",
    "    ax.set_title(name)\n",
    "\n",
    "\n",
    "# プロットの準備\n",
    "# fig = plt.figure(figsize=(20, 28))\n",
    "fig = plt.figure(figsize=(28, 28))\n",
    "\n",
    "i = 0\n",
    "# カテゴリごとのループ\n",
    "for name, group in cross_1000_df.groupby(level='カテゴリー'):\n",
    "    # サブルーチンを呼ぶ\n",
    "    sort_and_plot(name, group)\n",
    "    i += 1\n",
    "\n",
    "    # エリアごとのループ\n",
    "    for sub_name, sub_group in group.groupby(level='エリア'):\n",
    "        # サブルーチンを呼ぶ\n",
    "        sort_and_plot(sub_name, sub_group)\n",
    "        i += 1\n",
    "\n",
    "# プロットの仕上げ\n",
    "plt.tight_layout()\n",
    "plt.show()"
   ]
  },
  {
   "cell_type": "markdown",
   "id": "edf62cfa",
   "metadata": {},
   "source": [
    "#### 1.2.2 ネガティブ意見の「文書-抽出語」表を作成する"
   ]
  },
  {
   "cell_type": "code",
   "execution_count": null,
   "id": "1e5184d6",
   "metadata": {},
   "outputs": [],
   "source": [
    "# 必要ライブラリのインポート\n",
    "from scipy.sparse import csc_matrix\n",
    "import matplotlib.pyplot as plt\n",
    "%matplotlib inline\n",
    "\n",
    "# コーディングルール\n",
    "coding_or = coding_neg\n",
    "\n",
    "# サブルーチン\n",
    "def sort_and_plot(name, group):\n",
    "\n",
    "    # 「カテゴリー」ごとに Jaccard 係数でソートする\n",
    "    sorted_columns = np.argsort(jaccard_attrs_df.loc[name].values)[::-1][:75]\n",
    "\n",
    "    # Jaccard 係数Top 75語をソートして抽出する\n",
    "    group_cross_df = group.iloc[:,sorted_columns]\n",
    "\n",
    "    # 共起行列を作成する\n",
    "    X = group_cross_df.values\n",
    "    X = csc_matrix(X)\n",
    "    Xc = (X.T * X)\n",
    "    Xc = np.triu(Xc.toarray())\n",
    "\n",
    "    # コーディングルールで絞り込む\n",
    "    index = docs_df['表層'].str.contains(\"|\".join(coding_or))\n",
    "    group_cross_df = group_cross_df[group_cross_df.index.get_level_values('文書ID').isin(docs_df.loc[index, '文書ID'])]\n",
    "\n",
    "    # 共起行列を DataFrame に整える\n",
    "    group_cooccur_df = pd.DataFrame(Xc, columns=group_cross_df.columns, index=group_cross_df.columns)\n",
    "\n",
    "    # 共起行列の中身を Jaccard 係数に入れ替える\n",
    "    group_jaccard_df = gssm_utils.jaccard_coef(group_cooccur_df, group_cross_df)\n",
    "\n",
    "    # 抽出語の出現回数を取得する\n",
    "    word_counts = group_cross_df.sum(axis=0).values\n",
    "\n",
    "    # プロットする\n",
    "    ax = fig.add_subplot(4, 3, i+1)\n",
    "    gssm_utils.plot_cooccur_network_with_code_ax(ax, group_jaccard_df, word_counts, np.sort(group_jaccard_df.values.reshape(-1))[::-1][120], coding_or, html=True)\n",
    "    ax.set_title(name)\n",
    "\n",
    "\n",
    "# プロットの準備\n",
    "# fig = plt.figure(figsize=(20, 28))\n",
    "fig = plt.figure(figsize=(28, 28))\n",
    "\n",
    "i = 0\n",
    "# カテゴリごとのループ\n",
    "for name, group in cross_1000_df.groupby(level='カテゴリー'):\n",
    "    # サブルーチンを呼ぶ\n",
    "    sort_and_plot(name, group)\n",
    "    i += 1\n",
    "\n",
    "    # エリアごとのループ\n",
    "    for sub_name, sub_group in group.groupby(level='エリア'):\n",
    "        # サブルーチンを呼ぶ\n",
    "        sort_and_plot(sub_name, sub_group)\n",
    "        i += 1\n",
    "\n",
    "# プロットの仕上げ\n",
    "plt.tight_layout()\n",
    "plt.show()"
   ]
  },
  {
   "cell_type": "markdown",
   "id": "15e8b67f",
   "metadata": {},
   "source": [
    "#### 1.2.3 本文の参照 (カテゴリーごと)"
   ]
  },
  {
   "cell_type": "markdown",
   "id": "01558796",
   "metadata": {},
   "source": [
    "「登別」と「道後」で「すばらしい」という単語が含まれている口コミを表示する"
   ]
  },
  {
   "cell_type": "code",
   "execution_count": null,
   "id": "08190c40",
   "metadata": {},
   "outputs": [],
   "source": [
    "# 検索条件\n",
    "search_index = \\\n",
    "    all_df['エリア'].isin(['01_登別', '05_道後']) & \\\n",
    "    (all_df['コメント'].str.contains('素晴らしい') | all_df['コメント'].str.contains('すばらしい'))\n",
    "\n",
    "# 検索する\n",
    "result_df = all_df[search_index]\n",
    "\n",
    "# DataFrame を表示する\n",
    "print(result_df.shape)\n",
    "display(result_df.head())\n",
    "\n",
    "# CSV に保存する\n",
    "result_df.to_csv(\"output-1.csv\", header=True)"
   ]
  },
  {
   "cell_type": "markdown",
   "id": "f5bcbfdb",
   "metadata": {},
   "source": [
    "「東京」と「福岡」で「うるさい」という単語が含まれている口コミを表示する"
   ]
  },
  {
   "cell_type": "code",
   "execution_count": null,
   "id": "ef8a5acf",
   "metadata": {
    "tags": []
   },
   "outputs": [],
   "source": [
    "# 検索条件\n",
    "search_index = \\\n",
    "    all_df['エリア'].isin(['08_東京', '10_福岡']) & \\\n",
    "    all_df['コメント'].str.contains('うるさい')\n",
    "\n",
    "# 検索する\n",
    "result_df = all_df[search_index]\n",
    "\n",
    "# DataFrame を表示する\n",
    "print(result_df.shape)\n",
    "display(result_df.head())\n",
    "\n",
    "# CSV に保存する\n",
    "result_df.to_csv(\"output-2.csv\", header=True)"
   ]
  }
 ],
 "metadata": {
  "kernelspec": {
   "display_name": "gssm2024",
   "language": "python",
   "name": "python3"
  },
  "language_info": {
   "codemirror_mode": {
    "name": "ipython",
    "version": 3
   },
   "file_extension": ".py",
   "mimetype": "text/x-python",
   "name": "python",
   "nbconvert_exporter": "python",
   "pygments_lexer": "ipython3",
   "version": "3.1.-1"
  },
  "toc-autonumbering": false
 },
 "nbformat": 4,
 "nbformat_minor": 5
}
